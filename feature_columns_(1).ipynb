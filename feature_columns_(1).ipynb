{
  "cells": [
    {
      "cell_type": "markdown",
      "metadata": {
        "id": "view-in-github",
        "colab_type": "text"
      },
      "source": [
        "<a href=\"https://colab.research.google.com/github/delhiiitian/CrossSell/blob/main/feature_columns_(1).ipynb\" target=\"_parent\"><img src=\"https://colab.research.google.com/assets/colab-badge.svg\" alt=\"Open In Colab\"/></a>"
      ]
    },
    {
      "cell_type": "markdown",
      "metadata": {
        "id": "VxyBFc_kKazA"
      },
      "source": [
        "## Import TensorFlow and other libraries"
      ]
    },
    {
      "cell_type": "code",
      "execution_count": 1,
      "metadata": {
        "id": "9dEreb4QKizj"
      },
      "outputs": [],
      "source": [
        "import numpy as np\n",
        "import pandas as pd\n",
        "\n",
        "import tensorflow as tf\n",
        "\n",
        "from tensorflow import feature_column\n",
        "from tensorflow.keras import layers\n",
        "from sklearn.model_selection import train_test_split\n"
      ]
    },
    {
      "cell_type": "markdown",
      "metadata": {
        "id": "KCEhSZcULZ9n"
      },
      "source": [
        "## Use Pandas to create a dataframe\n",
        "\n",
        "[Pandas](https://pandas.pydata.org/) is a Python library with many helpful utilities for loading and working with structured data. We will use Pandas to download the dataset from a URL, and load it into a dataframe."
      ]
    },
    {
      "cell_type": "code",
      "execution_count": 2,
      "metadata": {
        "id": "REZ57BXCLdfG"
      },
      "outputs": [],
      "source": [
        "dataframe = pd.read_csv('train.csv')\n",
        "testframe = pd.read_csv('test.csv')"
      ]
    },
    {
      "cell_type": "markdown",
      "metadata": {
        "id": "awGiBeBWbQC8"
      },
      "source": [
        "## Create target variable\n",
        "\n",
        "The task in the original dataset is to predict the speed at which a pet will be adopted (e.g., in the first week, the first month, the first three months, and so on). Let's simplify this for our tutorial. Here, we will transform this into a binary classification problem, and simply predict whether the pet was adopted, or not.\n",
        "\n",
        "After modifying the label column, 0 will indicate the pet was not adopted, and 1 will indicate it was."
      ]
    },
    {
      "cell_type": "code",
      "execution_count": 3,
      "metadata": {
        "id": "xcbTpEXWbMDz"
      },
      "outputs": [],
      "source": [
        "target1 = dataframe['gill-attachment']\n",
        "target2 = dataframe['ring-type']\n",
        "target3 = dataframe['season']\n",
        "\n",
        "\n",
        "# Drop un-used columns.\n",
        "dataframe_new = dataframe.drop(columns=['gill-attachment','ring-type','season'])\n",
        "\n",
        "# In the original dataset \"4\" indicates the pet was not adopted.\n",
        "dataframe1 = dataframe_new.copy()\n",
        "dataframe2 = dataframe_new.copy()\n",
        "\n",
        "\n",
        "# ga = feature_column.categorical_column_with_vocabulary_list(\n",
        "#       'target', dataframe1['target'].unique())\n",
        "# ga_emb = feature_column.embedding_column(['target'], dimension=7)\n",
        "\n",
        "dataframe1['target'] = target1\n",
        "dataframe2['target'] = target2"
      ]
    },
    {
      "cell_type": "markdown",
      "metadata": {
        "id": "u0zhLtQqMPem"
      },
      "source": [
        "## Split the dataframe into train, validation, and test\n",
        "\n",
        "The dataset we downloaded was a single CSV file. We will split this into train, validation, and test sets."
      ]
    },
    {
      "cell_type": "code",
      "execution_count": 4,
      "metadata": {
        "id": "YEOpw7LhMYsI"
      },
      "outputs": [],
      "source": [
        "train1, test1 = dataframe1[dataframe1['target'].notnull()], dataframe1[dataframe1['target'].isnull()]\n",
        "# train, test = train_test_split(train1, test_size=0.2)\n",
        "# train, val = train_test_split(train, test_size=0.2)\n",
        "# print(len(train), 'train examples')\n",
        "# print(len(val), 'validation examples')\n",
        "# print(len(test), 'test examples')"
      ]
    },
    {
      "cell_type": "markdown",
      "metadata": {
        "id": "84ef46LXMfvu"
      },
      "source": [
        "## Create an input pipeline using tf.data\n",
        "\n",
        "Next, we will wrap the dataframes with [tf.data](https://www.tensorflow.org/guide/datasets). This will enable us  to use feature columns as a bridge to map from the columns in the Pandas dataframe to features used to train the model. If we were working with a very large CSV file (so large that it does not fit into memory), we would use tf.data to read it from disk directly. That is not covered in this tutorial."
      ]
    },
    {
      "cell_type": "code",
      "execution_count": 5,
      "metadata": {
        "id": "NkcaMYP-MsRe"
      },
      "outputs": [],
      "source": [
        "# # A utility method to create a tf.data dataset from a Pandas Dataframe\n",
        "# def df_to_dataset(dataframe, shuffle=True, batch_size=32):\n",
        "#   dataframe = dataframe.copy()\n",
        "#   labels = dataframe.pop('target')\n",
        "#   ds = tf.data.Dataset.from_tensor_slices((dict(dataframe), labels))\n",
        "#   if shuffle:\n",
        "#     ds = ds.shuffle(buffer_size=len(dataframe))\n",
        "#   ds = ds.batch(batch_size)\n",
        "#   return ds\n",
        "# batch_size = 32 # A small batch sized is used for demonstration purposes\n",
        "# train_ds = df_to_dataset(train, batch_size=batch_size)\n",
        "# val_ds = df_to_dataset(val, shuffle=False, batch_size=batch_size)\n",
        "# test_ds = df_to_dataset(test, shuffle=False, batch_size=batch_size)\n",
        "# train_ds\n",
        "# train.shape"
      ]
    },
    {
      "cell_type": "code",
      "source": [
        "# !pip install --upgrade keras"
      ],
      "metadata": {
        "id": "tVxDA67NwAF1"
      },
      "execution_count": 6,
      "outputs": []
    },
    {
      "cell_type": "code",
      "source": [
        "from keras.models import Sequential\n",
        "from keras.layers import Dense, Dropout, Activation\n",
        "# from keras.optimizers import SGD\n",
        "\n",
        "model = Sequential()\n",
        "# Dense(64) is a fully-connected layer with 64 hidden units.\n",
        "# in the first layer, you must specify the expected input data shape:\n",
        "# here, 20-dimensional vectors.\n",
        "model.add(Dense(64, input_dim=53))\n",
        "model.add(Activation('tanh'))\n",
        "model.add(Dropout(0.5))\n",
        "model.add(Dense(64))\n",
        "model.add(Activation('tanh'))\n",
        "model.add(Dropout(0.5))\n",
        "model.add(Dense(7))\n",
        "model.add(Activation('softmax'))\n",
        "\n",
        "# sgd = SGD(lr=0.1, decay=1e-6, momentum=0.9, nesterov=True)\n",
        "model.compile(loss='categorical_crossentropy',\n",
        "              optimizer='adam',\n",
        "              metrics=['accuracy'])\n",
        "\n"
      ],
      "metadata": {
        "id": "YnwNPPD0vorw"
      },
      "execution_count": 7,
      "outputs": []
    },
    {
      "cell_type": "code",
      "source": [
        "train = pd.get_dummies(train1,columns=['edible-poisonous', 'cap-shape', 'cap-color',\n",
        "       'does-bruise-or-bleed', 'gill-color',\n",
        "       'stem-color', 'has-ring', 'habitat'],drop_first=True)\n",
        "test = pd.get_dummies(test1,columns=['edible-poisonous', 'cap-shape', 'cap-color',\n",
        "       'does-bruise-or-bleed', 'gill-color',\n",
        "       'stem-color', 'has-ring', 'habitat'],drop_first=True)\n",
        "# val = pd.get_dummies(val,columns=['edible-poisonous', 'cap-shape', 'cap-color',\n",
        "#        'does-bruise-or-bleed', 'gill-color',\n",
        "#        'stem-color', 'has-ring', 'habitat'],drop_first=True)"
      ],
      "metadata": {
        "id": "xV19n9W8x0Zl"
      },
      "execution_count": 8,
      "outputs": []
    },
    {
      "cell_type": "code",
      "source": [
        "X_train,y_train = train.loc[:, train.columns != 'target'],train['target']\n",
        "X_test = test.loc[:, test.columns != 'target']\n",
        "# X_val,y_val = val.loc[:, val.columns != 'target'],val['target']"
      ],
      "metadata": {
        "id": "AwHA__3Iy7pg"
      },
      "execution_count": 9,
      "outputs": []
    },
    {
      "cell_type": "code",
      "source": [
        ""
      ],
      "metadata": {
        "id": "Ipp-9UK9cx1u"
      },
      "execution_count": 9,
      "outputs": []
    },
    {
      "cell_type": "code",
      "source": [
        "# X_train = np.asarray(X_train).astype(np.float32)\n",
        "# X_test = np.asarray(X_test).astype(np.float32)"
      ],
      "metadata": {
        "id": "CRT69JdIzNE7"
      },
      "execution_count": 10,
      "outputs": []
    },
    {
      "cell_type": "code",
      "source": [
        "y_train = pd.get_dummies(y_train)"
      ],
      "metadata": {
        "id": "cOWU1FPu2xXG"
      },
      "execution_count": 11,
      "outputs": []
    },
    {
      "cell_type": "code",
      "source": [
        "# from sklearn.preprocessing import LabelEncoder\n",
        "\n",
        "# label_encoder = LabelEncoder()\n",
        "\n",
        "# label_encoder.fit(y_train)\n",
        "# y_train = label_encoder.transform(y_train)\n",
        "# # y_test = label_encoder.transform(y_test)"
      ],
      "metadata": {
        "id": "1GZ6JiD9z95F"
      },
      "execution_count": 12,
      "outputs": []
    },
    {
      "cell_type": "code",
      "source": [
        "y_train"
      ],
      "metadata": {
        "colab": {
          "base_uri": "https://localhost:8080/",
          "height": 423
        },
        "id": "ffRvWW_Qbv5P",
        "outputId": "f2f1b5d5-4a4d-4a77-a8a9-8967513aa237"
      },
      "execution_count": 13,
      "outputs": [
        {
          "output_type": "execute_result",
          "data": {
            "text/html": [
              "\n",
              "  <div id=\"df-5df09908-838e-4415-9168-dadb31ee7533\">\n",
              "    <div class=\"colab-df-container\">\n",
              "      <div>\n",
              "<style scoped>\n",
              "    .dataframe tbody tr th:only-of-type {\n",
              "        vertical-align: middle;\n",
              "    }\n",
              "\n",
              "    .dataframe tbody tr th {\n",
              "        vertical-align: top;\n",
              "    }\n",
              "\n",
              "    .dataframe thead th {\n",
              "        text-align: right;\n",
              "    }\n",
              "</style>\n",
              "<table border=\"1\" class=\"dataframe\">\n",
              "  <thead>\n",
              "    <tr style=\"text-align: right;\">\n",
              "      <th></th>\n",
              "      <th>a</th>\n",
              "      <th>d</th>\n",
              "      <th>e</th>\n",
              "      <th>f</th>\n",
              "      <th>p</th>\n",
              "      <th>s</th>\n",
              "      <th>x</th>\n",
              "    </tr>\n",
              "  </thead>\n",
              "  <tbody>\n",
              "    <tr>\n",
              "      <th>0</th>\n",
              "      <td>0</td>\n",
              "      <td>0</td>\n",
              "      <td>0</td>\n",
              "      <td>0</td>\n",
              "      <td>0</td>\n",
              "      <td>1</td>\n",
              "      <td>0</td>\n",
              "    </tr>\n",
              "    <tr>\n",
              "      <th>1</th>\n",
              "      <td>0</td>\n",
              "      <td>0</td>\n",
              "      <td>0</td>\n",
              "      <td>1</td>\n",
              "      <td>0</td>\n",
              "      <td>0</td>\n",
              "      <td>0</td>\n",
              "    </tr>\n",
              "    <tr>\n",
              "      <th>2</th>\n",
              "      <td>0</td>\n",
              "      <td>0</td>\n",
              "      <td>0</td>\n",
              "      <td>0</td>\n",
              "      <td>0</td>\n",
              "      <td>0</td>\n",
              "      <td>1</td>\n",
              "    </tr>\n",
              "    <tr>\n",
              "      <th>3</th>\n",
              "      <td>1</td>\n",
              "      <td>0</td>\n",
              "      <td>0</td>\n",
              "      <td>0</td>\n",
              "      <td>0</td>\n",
              "      <td>0</td>\n",
              "      <td>0</td>\n",
              "    </tr>\n",
              "    <tr>\n",
              "      <th>4</th>\n",
              "      <td>1</td>\n",
              "      <td>0</td>\n",
              "      <td>0</td>\n",
              "      <td>0</td>\n",
              "      <td>0</td>\n",
              "      <td>0</td>\n",
              "      <td>0</td>\n",
              "    </tr>\n",
              "    <tr>\n",
              "      <th>...</th>\n",
              "      <td>...</td>\n",
              "      <td>...</td>\n",
              "      <td>...</td>\n",
              "      <td>...</td>\n",
              "      <td>...</td>\n",
              "      <td>...</td>\n",
              "      <td>...</td>\n",
              "    </tr>\n",
              "    <tr>\n",
              "      <th>42742</th>\n",
              "      <td>0</td>\n",
              "      <td>0</td>\n",
              "      <td>1</td>\n",
              "      <td>0</td>\n",
              "      <td>0</td>\n",
              "      <td>0</td>\n",
              "      <td>0</td>\n",
              "    </tr>\n",
              "    <tr>\n",
              "      <th>42743</th>\n",
              "      <td>1</td>\n",
              "      <td>0</td>\n",
              "      <td>0</td>\n",
              "      <td>0</td>\n",
              "      <td>0</td>\n",
              "      <td>0</td>\n",
              "      <td>0</td>\n",
              "    </tr>\n",
              "    <tr>\n",
              "      <th>42744</th>\n",
              "      <td>0</td>\n",
              "      <td>0</td>\n",
              "      <td>0</td>\n",
              "      <td>0</td>\n",
              "      <td>0</td>\n",
              "      <td>0</td>\n",
              "      <td>1</td>\n",
              "    </tr>\n",
              "    <tr>\n",
              "      <th>42745</th>\n",
              "      <td>1</td>\n",
              "      <td>0</td>\n",
              "      <td>0</td>\n",
              "      <td>0</td>\n",
              "      <td>0</td>\n",
              "      <td>0</td>\n",
              "      <td>0</td>\n",
              "    </tr>\n",
              "    <tr>\n",
              "      <th>42747</th>\n",
              "      <td>0</td>\n",
              "      <td>0</td>\n",
              "      <td>0</td>\n",
              "      <td>0</td>\n",
              "      <td>0</td>\n",
              "      <td>0</td>\n",
              "      <td>1</td>\n",
              "    </tr>\n",
              "  </tbody>\n",
              "</table>\n",
              "<p>35808 rows × 7 columns</p>\n",
              "</div>\n",
              "      <button class=\"colab-df-convert\" onclick=\"convertToInteractive('df-5df09908-838e-4415-9168-dadb31ee7533')\"\n",
              "              title=\"Convert this dataframe to an interactive table.\"\n",
              "              style=\"display:none;\">\n",
              "        \n",
              "  <svg xmlns=\"http://www.w3.org/2000/svg\" height=\"24px\"viewBox=\"0 0 24 24\"\n",
              "       width=\"24px\">\n",
              "    <path d=\"M0 0h24v24H0V0z\" fill=\"none\"/>\n",
              "    <path d=\"M18.56 5.44l.94 2.06.94-2.06 2.06-.94-2.06-.94-.94-2.06-.94 2.06-2.06.94zm-11 1L8.5 8.5l.94-2.06 2.06-.94-2.06-.94L8.5 2.5l-.94 2.06-2.06.94zm10 10l.94 2.06.94-2.06 2.06-.94-2.06-.94-.94-2.06-.94 2.06-2.06.94z\"/><path d=\"M17.41 7.96l-1.37-1.37c-.4-.4-.92-.59-1.43-.59-.52 0-1.04.2-1.43.59L10.3 9.45l-7.72 7.72c-.78.78-.78 2.05 0 2.83L4 21.41c.39.39.9.59 1.41.59.51 0 1.02-.2 1.41-.59l7.78-7.78 2.81-2.81c.8-.78.8-2.07 0-2.86zM5.41 20L4 18.59l7.72-7.72 1.47 1.35L5.41 20z\"/>\n",
              "  </svg>\n",
              "      </button>\n",
              "      \n",
              "  <style>\n",
              "    .colab-df-container {\n",
              "      display:flex;\n",
              "      flex-wrap:wrap;\n",
              "      gap: 12px;\n",
              "    }\n",
              "\n",
              "    .colab-df-convert {\n",
              "      background-color: #E8F0FE;\n",
              "      border: none;\n",
              "      border-radius: 50%;\n",
              "      cursor: pointer;\n",
              "      display: none;\n",
              "      fill: #1967D2;\n",
              "      height: 32px;\n",
              "      padding: 0 0 0 0;\n",
              "      width: 32px;\n",
              "    }\n",
              "\n",
              "    .colab-df-convert:hover {\n",
              "      background-color: #E2EBFA;\n",
              "      box-shadow: 0px 1px 2px rgba(60, 64, 67, 0.3), 0px 1px 3px 1px rgba(60, 64, 67, 0.15);\n",
              "      fill: #174EA6;\n",
              "    }\n",
              "\n",
              "    [theme=dark] .colab-df-convert {\n",
              "      background-color: #3B4455;\n",
              "      fill: #D2E3FC;\n",
              "    }\n",
              "\n",
              "    [theme=dark] .colab-df-convert:hover {\n",
              "      background-color: #434B5C;\n",
              "      box-shadow: 0px 1px 3px 1px rgba(0, 0, 0, 0.15);\n",
              "      filter: drop-shadow(0px 1px 2px rgba(0, 0, 0, 0.3));\n",
              "      fill: #FFFFFF;\n",
              "    }\n",
              "  </style>\n",
              "\n",
              "      <script>\n",
              "        const buttonEl =\n",
              "          document.querySelector('#df-5df09908-838e-4415-9168-dadb31ee7533 button.colab-df-convert');\n",
              "        buttonEl.style.display =\n",
              "          google.colab.kernel.accessAllowed ? 'block' : 'none';\n",
              "\n",
              "        async function convertToInteractive(key) {\n",
              "          const element = document.querySelector('#df-5df09908-838e-4415-9168-dadb31ee7533');\n",
              "          const dataTable =\n",
              "            await google.colab.kernel.invokeFunction('convertToInteractive',\n",
              "                                                     [key], {});\n",
              "          if (!dataTable) return;\n",
              "\n",
              "          const docLinkHtml = 'Like what you see? Visit the ' +\n",
              "            '<a target=\"_blank\" href=https://colab.research.google.com/notebooks/data_table.ipynb>data table notebook</a>'\n",
              "            + ' to learn more about interactive tables.';\n",
              "          element.innerHTML = '';\n",
              "          dataTable['output_type'] = 'display_data';\n",
              "          await google.colab.output.renderOutput(dataTable, element);\n",
              "          const docLink = document.createElement('div');\n",
              "          docLink.innerHTML = docLinkHtml;\n",
              "          element.appendChild(docLink);\n",
              "        }\n",
              "      </script>\n",
              "    </div>\n",
              "  </div>\n",
              "  "
            ],
            "text/plain": [
              "       a  d  e  f  p  s  x\n",
              "0      0  0  0  0  0  1  0\n",
              "1      0  0  0  1  0  0  0\n",
              "2      0  0  0  0  0  0  1\n",
              "3      1  0  0  0  0  0  0\n",
              "4      1  0  0  0  0  0  0\n",
              "...   .. .. .. .. .. .. ..\n",
              "42742  0  0  1  0  0  0  0\n",
              "42743  1  0  0  0  0  0  0\n",
              "42744  0  0  0  0  0  0  1\n",
              "42745  1  0  0  0  0  0  0\n",
              "42747  0  0  0  0  0  0  1\n",
              "\n",
              "[35808 rows x 7 columns]"
            ]
          },
          "metadata": {},
          "execution_count": 13
        }
      ]
    },
    {
      "cell_type": "code",
      "source": [
        "model.fit(X_train, y_train, epochs=20)\n",
        "score = model.evaluate(X_train, y_train, batch_size=16)"
      ],
      "metadata": {
        "id": "5MgSUcfVv77n",
        "outputId": "55ac0e70-4576-4556-f418-8f478bab0282",
        "colab": {
          "base_uri": "https://localhost:8080/"
        }
      },
      "execution_count": 14,
      "outputs": [
        {
          "output_type": "stream",
          "name": "stdout",
          "text": [
            "Epoch 1/20\n",
            "1119/1119 [==============================] - 4s 2ms/step - loss: 1.3042 - accuracy: 0.5156\n",
            "Epoch 2/20\n",
            "1119/1119 [==============================] - 3s 2ms/step - loss: 0.8892 - accuracy: 0.6781\n",
            "Epoch 3/20\n",
            "1119/1119 [==============================] - 3s 2ms/step - loss: 0.7890 - accuracy: 0.7127\n",
            "Epoch 4/20\n",
            "1119/1119 [==============================] - 3s 2ms/step - loss: 0.7130 - accuracy: 0.7437\n",
            "Epoch 5/20\n",
            "1119/1119 [==============================] - 3s 2ms/step - loss: 0.6664 - accuracy: 0.7573\n",
            "Epoch 6/20\n",
            "1119/1119 [==============================] - 3s 2ms/step - loss: 0.6225 - accuracy: 0.7753\n",
            "Epoch 7/20\n",
            "1119/1119 [==============================] - 3s 2ms/step - loss: 0.6002 - accuracy: 0.7810\n",
            "Epoch 8/20\n",
            "1119/1119 [==============================] - 3s 2ms/step - loss: 0.5784 - accuracy: 0.7888\n",
            "Epoch 9/20\n",
            "1119/1119 [==============================] - 3s 2ms/step - loss: 0.5528 - accuracy: 0.8005\n",
            "Epoch 10/20\n",
            "1119/1119 [==============================] - 3s 2ms/step - loss: 0.5331 - accuracy: 0.8085\n",
            "Epoch 11/20\n",
            "1119/1119 [==============================] - 3s 2ms/step - loss: 0.5189 - accuracy: 0.8099\n",
            "Epoch 12/20\n",
            "1119/1119 [==============================] - 3s 2ms/step - loss: 0.5048 - accuracy: 0.8179\n",
            "Epoch 13/20\n",
            "1119/1119 [==============================] - 3s 2ms/step - loss: 0.4904 - accuracy: 0.8240\n",
            "Epoch 14/20\n",
            "1119/1119 [==============================] - 3s 2ms/step - loss: 0.4807 - accuracy: 0.8250\n",
            "Epoch 15/20\n",
            "1119/1119 [==============================] - 3s 2ms/step - loss: 0.4738 - accuracy: 0.8287\n",
            "Epoch 16/20\n",
            "1119/1119 [==============================] - 3s 2ms/step - loss: 0.4635 - accuracy: 0.8346\n",
            "Epoch 17/20\n",
            "1119/1119 [==============================] - 3s 2ms/step - loss: 0.4551 - accuracy: 0.8358\n",
            "Epoch 18/20\n",
            "1119/1119 [==============================] - 3s 2ms/step - loss: 0.4569 - accuracy: 0.8345\n",
            "Epoch 19/20\n",
            "1119/1119 [==============================] - 3s 2ms/step - loss: 0.4491 - accuracy: 0.8384\n",
            "Epoch 20/20\n",
            "1119/1119 [==============================] - 3s 2ms/step - loss: 0.4363 - accuracy: 0.8428\n",
            "2238/2238 [==============================] - 4s 2ms/step - loss: 0.2005 - accuracy: 0.9337\n"
          ]
        }
      ]
    },
    {
      "cell_type": "code",
      "source": [
        "gilladd = dataframe[['edible-poisonous', 'cap-diameter', 'cap-shape', 'cap-color',\n",
        "       'does-bruise-or-bleed', 'gill-color', 'stem-height',\n",
        "       'stem-width', 'stem-color', 'has-ring', 'habitat']]\n",
        "\n",
        "gilladd = pd.get_dummies(gilladd,drop_first=True)\n",
        "\n",
        "dataframe['gill_attachment'] = np.argmax(model.predict(gilladd),axis=1)\n",
        "\n",
        "mapping_dictionary = {0:\"a\",1:\"d\",2:\"e\",3:\"f\",4:\"p\",5:\"s\",6:\"x\"}\n",
        "dataframe = dataframe.replace({\"gill_attachment\":mapping_dictionary})\n",
        "# y_test = y_test.replace({\"season\":mapping_dictionary})\n",
        "\n",
        "dataframe['gill-attachment'] = dataframe.apply(lambda x: x['gill_attachment'] if pd.isna(x['gill-attachment']) else x['gill-attachment'],axis=1)\n",
        "\n",
        "dataframe.drop('gill_attachment',axis=1,inplace=True)\n",
        "\n",
        "\n",
        "gilladdtest = testframe[['edible-poisonous', 'cap-diameter', 'cap-shape', 'cap-color',\n",
        "       'does-bruise-or-bleed', 'gill-color', 'stem-height',\n",
        "       'stem-width', 'stem-color', 'has-ring', 'habitat']]\n",
        "\n",
        "gilladdtest = pd.get_dummies(gilladdtest,drop_first=True)\n",
        "\n",
        "testframe['gill_attachment'] = np.argmax(model.predict(gilladdtest),axis=1)\n",
        "\n",
        "mapping_dictionary = {0:\"a\",1:\"d\",2:\"e\",3:\"f\",4:\"p\",5:\"s\",6:\"x\"}\n",
        "testframe = testframe.replace({\"gill_attachment\":mapping_dictionary})\n",
        "# y_test = y_test.replace({\"season\":mapping_dictionary})\n",
        "\n",
        "testframe['gill-attachment'] = testframe.apply(lambda x: x['gill_attachment'] if pd.isna(x['gill-attachment']) else x['gill-attachment'],axis=1)\n",
        "\n",
        "testframe.drop('gill_attachment',axis=1,inplace=True)"
      ],
      "metadata": {
        "id": "ibGJ2wAhpNPf"
      },
      "execution_count": 15,
      "outputs": []
    },
    {
      "cell_type": "code",
      "source": [
        "target2 = dataframe['ring-type']\n",
        "target3 = dataframe['season']\n",
        "\n",
        "\n",
        "# Drop un-used columns.\n",
        "dataframe_new = dataframe.drop(columns=['ring-type','season'])\n",
        "\n",
        "# In the original dataset \"4\" indicates the pet was not adopted.\n",
        "dataframe1 = dataframe_new.copy()\n",
        "\n",
        "\n",
        "# ga = feature_column.categorical_column_with_vocabulary_list(\n",
        "#       'target', dataframe1['target'].unique())\n",
        "# ga_emb = feature_column.embedding_column(['target'], dimension=7)\n",
        "\n",
        "dataframe1['target'] = target2\n",
        "train1, test1 = dataframe1[dataframe1['target'].notnull()], dataframe1[dataframe1['target'].isnull()]\n",
        "\n",
        "# from keras.optimizers import SGD\n",
        "\n",
        "model = Sequential()\n",
        "# Dense(64) is a fully-connected layer with 64 hidden units.\n",
        "# in the first layer, you must specify the expected input data shape:\n",
        "# here, 20-dimensional vectors.\n",
        "model.add(Dense(64, input_dim=59))\n",
        "model.add(Activation('tanh'))\n",
        "model.add(Dropout(0.5))\n",
        "model.add(Dense(64))\n",
        "model.add(Activation('tanh'))\n",
        "model.add(Dropout(0.5))\n",
        "model.add(Dense(8))\n",
        "model.add(Activation('softmax'))\n",
        "\n",
        "# sgd = SGD(lr=0.1, decay=1e-6, momentum=0.9, nesterov=True)\n",
        "model.compile(loss='categorical_crossentropy',\n",
        "              optimizer='adam',\n",
        "              metrics=['accuracy'])\n",
        "\n",
        "train = pd.get_dummies(train1,columns=['edible-poisonous', 'cap-shape', 'cap-color',\n",
        "       'does-bruise-or-bleed', 'gill-color',\n",
        "       'stem-color', 'has-ring', 'habitat','gill-attachment'],drop_first=True)\n",
        "test = pd.get_dummies(test1,columns=['edible-poisonous', 'cap-shape', 'cap-color',\n",
        "       'does-bruise-or-bleed', 'gill-color',\n",
        "       'stem-color', 'has-ring', 'habitat','gill-attachment'],drop_first=True)\n",
        "# val = pd.get_dummies(val,columns=['edible-poisonous', 'cap-shape', 'cap-color',\n",
        "#        'does-bruise-or-bleed', 'gill-color',\n",
        "#        'stem-color', 'has-ring', 'habitat'],drop_first=True)\n",
        "\n",
        "X_train,y_train = train.loc[:, train.columns != 'target'],train['target']\n",
        "\n",
        "y_train = pd.get_dummies(y_train)\n",
        "\n",
        "model.fit(X_train, y_train, epochs=20)\n",
        "score = model.evaluate(X_train, y_train, batch_size=16)\n",
        "\n"
      ],
      "metadata": {
        "colab": {
          "base_uri": "https://localhost:8080/"
        },
        "id": "fxDysq2SivQd",
        "outputId": "0e8b2e88-a5bd-4df1-f391-50e535602c75"
      },
      "execution_count": 16,
      "outputs": [
        {
          "output_type": "stream",
          "name": "stdout",
          "text": [
            "Epoch 1/20\n",
            "1283/1283 [==============================] - 4s 3ms/step - loss: 0.4692 - accuracy: 0.8651\n",
            "Epoch 2/20\n",
            "1283/1283 [==============================] - 3s 3ms/step - loss: 0.1791 - accuracy: 0.9394\n",
            "Epoch 3/20\n",
            "1283/1283 [==============================] - 3s 3ms/step - loss: 0.1282 - accuracy: 0.9548\n",
            "Epoch 4/20\n",
            "1283/1283 [==============================] - 3s 3ms/step - loss: 0.1057 - accuracy: 0.9614\n",
            "Epoch 5/20\n",
            "1283/1283 [==============================] - 3s 3ms/step - loss: 0.0941 - accuracy: 0.9658\n",
            "Epoch 6/20\n",
            "1283/1283 [==============================] - 3s 3ms/step - loss: 0.0837 - accuracy: 0.9689\n",
            "Epoch 7/20\n",
            "1283/1283 [==============================] - 3s 3ms/step - loss: 0.0803 - accuracy: 0.9690\n",
            "Epoch 8/20\n",
            "1283/1283 [==============================] - 3s 3ms/step - loss: 0.0795 - accuracy: 0.9692\n",
            "Epoch 9/20\n",
            "1283/1283 [==============================] - 3s 3ms/step - loss: 0.0731 - accuracy: 0.9710\n",
            "Epoch 10/20\n",
            "1283/1283 [==============================] - 3s 3ms/step - loss: 0.0696 - accuracy: 0.9718\n",
            "Epoch 11/20\n",
            "1283/1283 [==============================] - 3s 3ms/step - loss: 0.0691 - accuracy: 0.9726\n",
            "Epoch 12/20\n",
            "1283/1283 [==============================] - 3s 3ms/step - loss: 0.0644 - accuracy: 0.9740\n",
            "Epoch 13/20\n",
            "1283/1283 [==============================] - 3s 3ms/step - loss: 0.0640 - accuracy: 0.9738\n",
            "Epoch 14/20\n",
            "1283/1283 [==============================] - 3s 3ms/step - loss: 0.0641 - accuracy: 0.9737\n",
            "Epoch 15/20\n",
            "1283/1283 [==============================] - 3s 3ms/step - loss: 0.0621 - accuracy: 0.9744\n",
            "Epoch 16/20\n",
            "1283/1283 [==============================] - 3s 3ms/step - loss: 0.0626 - accuracy: 0.9745\n",
            "Epoch 17/20\n",
            "1283/1283 [==============================] - 3s 3ms/step - loss: 0.0612 - accuracy: 0.9741\n",
            "Epoch 18/20\n",
            "1283/1283 [==============================] - 3s 3ms/step - loss: 0.0607 - accuracy: 0.9742\n",
            "Epoch 19/20\n",
            "1283/1283 [==============================] - 3s 3ms/step - loss: 0.0602 - accuracy: 0.9749\n",
            "Epoch 20/20\n",
            "1283/1283 [==============================] - 3s 3ms/step - loss: 0.0576 - accuracy: 0.9756\n",
            "2565/2565 [==============================] - 6s 2ms/step - loss: 0.0330 - accuracy: 0.9800\n"
          ]
        }
      ]
    },
    {
      "cell_type": "code",
      "source": [
        "# np.argmax(model.predict(X_train),axis=1)"
      ],
      "metadata": {
        "id": "QjsryTO8k5Rf"
      },
      "execution_count": 17,
      "outputs": []
    },
    {
      "cell_type": "code",
      "source": [
        "ringadd = dataframe[['edible-poisonous', 'cap-diameter', 'cap-shape', 'cap-color',\n",
        "       'does-bruise-or-bleed', 'gill-color', 'stem-height',\n",
        "       'stem-width', 'stem-color', 'has-ring', 'habitat','gill-attachment']]\n",
        "\n",
        "ringadd = pd.get_dummies(ringadd,drop_first=True)\n",
        "\n",
        "dataframe['ring_type'] = np.argmax(model.predict(ringadd),axis=1)\n",
        "\n",
        "mapping_dictionary = {0:\"e\",1:\"f\",2:\"g\",3:\"l\",4:\"m\",5:\"p\",6:\"r\",7:\"z\"}\n",
        "dataframe = dataframe.replace({\"ring_type\":mapping_dictionary})\n",
        "\n",
        "dataframe['ring-type'] = dataframe.apply(lambda x: x['ring_type'] if pd.isna(x['ring-type']) else x['ring-type'],axis=1)\n",
        "dataframe.drop('ring_type',axis=1,inplace=True)\n",
        "\n",
        "\n",
        "\n",
        "ringaddtest = testframe[['edible-poisonous', 'cap-diameter', 'cap-shape', 'cap-color',\n",
        "       'does-bruise-or-bleed', 'gill-color', 'stem-height',\n",
        "       'stem-width', 'stem-color', 'has-ring', 'habitat','gill-attachment']]\n",
        "\n",
        "ringaddtest = pd.get_dummies(ringaddtest,drop_first=True)\n",
        "\n",
        "testframe['ring_type'] = np.argmax(model.predict(ringaddtest),axis=1)\n",
        "\n",
        "mapping_dictionary = {0:\"e\",1:\"f\",2:\"g\",3:\"l\",4:\"m\",5:\"p\",6:\"r\",7:\"z\"}\n",
        "testframe = testframe.replace({\"ring_type\":mapping_dictionary})\n",
        "\n",
        "testframe['ring-type'] = testframe.apply(lambda x: x['ring_type'] if pd.isna(x['ring-type']) else x['ring-type'],axis=1)\n",
        "testframe.drop('ring_type',axis=1,inplace=True)"
      ],
      "metadata": {
        "id": "wrkbEduulbfN"
      },
      "execution_count": 19,
      "outputs": []
    },
    {
      "cell_type": "code",
      "source": [
        "# dataframe.to_csv('train_full_new.csv')\n",
        "# testframe.to_csv('test_full_new.csv')"
      ],
      "metadata": {
        "id": "zH-OGxnElvTJ"
      },
      "execution_count": 38,
      "outputs": []
    },
    {
      "cell_type": "code",
      "source": [
        "from tensorflow.keras.optimizers import SGD"
      ],
      "metadata": {
        "id": "g3JBA2X-s-Bv"
      },
      "execution_count": 131,
      "outputs": []
    },
    {
      "cell_type": "code",
      "source": [
        "traindf = pd.read_csv('train_full_new.csv',index_col=0)\n",
        "testdf = pd.read_csv('test_full_new.csv',index_col=0)\n",
        "\n",
        "target = dataframe['season']\n",
        "\n",
        "\n",
        "# Drop un-used columns.\n",
        "dataframe_new = traindf.drop(columns=['season'])\n",
        "testdf.drop(columns=['season'],inplace=True)\n",
        "\n",
        "# In the original dataset \"4\" indicates the pet was not adopted.\n",
        "# dataframe1 = dataframe_new.copy()\n",
        "\n",
        "\n",
        "# ga = feature_column.categorical_column_with_vocabulary_list(\n",
        "#       'target', dataframe1['target'].unique())\n",
        "# ga_emb = feature_column.embedding_column(['target'], dimension=7)\n",
        "\n",
        "dataframe_new['target'] = target\n",
        "\n",
        "# from keras.optimizers import SGD\n",
        "\n",
        "model = Sequential()\n",
        "# Dense(64) is a fully-connected layer with 64 hidden units.\n",
        "# in the first layer, you must specify the expected input data shape:\n",
        "# here, 20-dimensional vectors.\n",
        "model.add(Dense(128, input_dim=66))\n",
        "model.add(Activation('relu'))\n",
        "model.add(Dropout(0.01))\n",
        "model.add(Dense(64))\n",
        "model.add(Activation('relu'))\n",
        "model.add(Dropout(0.01))\n",
        "model.add(Dense(32))\n",
        "model.add(Activation('relu'))\n",
        "model.add(Dropout(0.01))\n",
        "model.add(Dense(16))\n",
        "model.add(Activation('relu'))\n",
        "model.add(Dropout(0.01))\n",
        "model.add(Dense(4))\n",
        "model.add(Activation('softmax'))\n",
        "\n",
        "sgd = SGD(lr=0.01, decay=1e-6, momentum=0.0, nesterov=True)\n",
        "model.compile(loss='categorical_crossentropy',\n",
        "            optimizer=sgd,\n",
        "              metrics=['accuracy'])\n"
      ],
      "metadata": {
        "colab": {
          "base_uri": "https://localhost:8080/"
        },
        "id": "fbtQtNqWtgHw",
        "outputId": "5a6e09b4-5a78-4b58-b898-b1b4b2a31036"
      },
      "execution_count": 136,
      "outputs": [
        {
          "output_type": "stream",
          "name": "stderr",
          "text": [
            "/usr/local/lib/python3.7/dist-packages/keras/optimizer_v2/gradient_descent.py:102: UserWarning: The `lr` argument is deprecated, use `learning_rate` instead.\n",
            "  super(SGD, self).__init__(name, **kwargs)\n"
          ]
        }
      ]
    },
    {
      "cell_type": "code",
      "source": [
        "\n",
        "train = pd.get_dummies(dataframe_new,columns=['edible-poisonous', 'cap-shape', 'cap-color',\n",
        "       'does-bruise-or-bleed', 'gill-attachment', 'gill-color',\n",
        "       'stem-color', 'has-ring', 'ring-type', 'habitat',],drop_first=True)\n",
        "test = pd.get_dummies(testdf,columns=['edible-poisonous', 'cap-shape', 'cap-color',\n",
        "       'does-bruise-or-bleed', 'gill-attachment', 'gill-color',\n",
        "       'stem-color', 'has-ring', 'ring-type', 'habitat',],drop_first=True)\n",
        "# val = pd.get_dummies(val,columns=['edible-poisonous', 'cap-shape', 'cap-color',\n",
        "#        'does-bruise-or-bleed', 'gill-color',\n",
        "#        'stem-color', 'has-ring', 'habitat'],drop_first=True)\n",
        "\n",
        "train1, test1 = train_test_split(train, test_size=0.2)\n",
        "# train, val = train_test_split(train, test_size=0.2)\n",
        "\n",
        "X_train,y_train = train1.loc[:, train1.columns != 'target'],train1['target']\n",
        "X_test,y_test = test1.loc[:, test1.columns != 'target'],test1['target']\n",
        "\n",
        "y_train = pd.get_dummies(y_train)\n",
        "y_test = pd.get_dummies(y_test)\n",
        "\n",
        "model.fit(X_train, y_train, epochs=20)\n",
        "score = model.evaluate(X_test, y_test, batch_size=16)\n",
        "\n"
      ],
      "metadata": {
        "colab": {
          "base_uri": "https://localhost:8080/"
        },
        "id": "t8nX7m_Knb5U",
        "outputId": "09ef7ee1-e851-436a-9de5-cfceedbb3385"
      },
      "execution_count": 137,
      "outputs": [
        {
          "output_type": "stream",
          "name": "stdout",
          "text": [
            "Epoch 1/20\n",
            "1069/1069 [==============================] - 4s 3ms/step - loss: 1.0904 - accuracy: 0.4916\n",
            "Epoch 2/20\n",
            "1069/1069 [==============================] - 3s 3ms/step - loss: 1.0433 - accuracy: 0.4993\n",
            "Epoch 3/20\n",
            "1069/1069 [==============================] - 3s 3ms/step - loss: 1.0128 - accuracy: 0.5020\n",
            "Epoch 4/20\n",
            "1069/1069 [==============================] - 3s 3ms/step - loss: 0.9887 - accuracy: 0.5050\n",
            "Epoch 5/20\n",
            "1069/1069 [==============================] - 3s 3ms/step - loss: 0.9665 - accuracy: 0.5056\n",
            "Epoch 6/20\n",
            "1069/1069 [==============================] - 3s 3ms/step - loss: 0.9479 - accuracy: 0.5080\n",
            "Epoch 7/20\n",
            "1069/1069 [==============================] - 3s 3ms/step - loss: 0.9317 - accuracy: 0.5094\n",
            "Epoch 8/20\n",
            "1069/1069 [==============================] - 3s 3ms/step - loss: 0.9167 - accuracy: 0.5116\n",
            "Epoch 9/20\n",
            "1069/1069 [==============================] - 3s 3ms/step - loss: 0.9029 - accuracy: 0.5147\n",
            "Epoch 10/20\n",
            "1069/1069 [==============================] - 3s 3ms/step - loss: 0.8903 - accuracy: 0.5148\n",
            "Epoch 11/20\n",
            "1069/1069 [==============================] - 3s 3ms/step - loss: 0.8811 - accuracy: 0.5148\n",
            "Epoch 12/20\n",
            "1069/1069 [==============================] - 3s 3ms/step - loss: 0.8689 - accuracy: 0.5122\n",
            "Epoch 13/20\n",
            "1069/1069 [==============================] - 3s 3ms/step - loss: 0.8616 - accuracy: 0.5172\n",
            "Epoch 14/20\n",
            "1069/1069 [==============================] - 3s 3ms/step - loss: 0.8514 - accuracy: 0.5192\n",
            "Epoch 15/20\n",
            "1069/1069 [==============================] - 3s 3ms/step - loss: 0.8435 - accuracy: 0.5180\n",
            "Epoch 16/20\n",
            "1069/1069 [==============================] - 3s 3ms/step - loss: 0.8359 - accuracy: 0.5164\n",
            "Epoch 17/20\n",
            "1069/1069 [==============================] - 3s 3ms/step - loss: 0.8293 - accuracy: 0.5191\n",
            "Epoch 18/20\n",
            "1069/1069 [==============================] - 3s 3ms/step - loss: 0.8246 - accuracy: 0.5166\n",
            "Epoch 19/20\n",
            "1069/1069 [==============================] - 3s 3ms/step - loss: 0.8179 - accuracy: 0.5221\n",
            "Epoch 20/20\n",
            "1069/1069 [==============================] - 3s 3ms/step - loss: 0.8126 - accuracy: 0.5192\n",
            "535/535 [==============================] - 1s 2ms/step - loss: 0.8068 - accuracy: 0.5207\n"
          ]
        }
      ]
    },
    {
      "cell_type": "code",
      "source": [
        "# Import packages\n",
        "import numpy as np\n",
        "import pandas as pd\n",
        "import matplotlib.pyplot as plt\n",
        "import seaborn as sns\n",
        "from sklearn.model_selection import train_test_split\n",
        "from sklearn.model_selection import cross_val_score\n",
        "from keras.models import Sequential\n",
        "from keras.layers import Dense, BatchNormalization, Dropout\n",
        "from tensorflow.keras.optimizers import Adam, SGD, RMSprop, Adadelta, Adagrad, Adamax, Nadam, Ftrl\n",
        "from keras.callbacks import EarlyStopping, ModelCheckpoint\n",
        "from keras.wrappers.scikit_learn import KerasClassifier\n",
        "from math import floor\n",
        "from sklearn.metrics import make_scorer, accuracy_score\n",
        "from bayes_opt import BayesianOptimization\n",
        "from sklearn.model_selection import StratifiedKFold\n",
        "from keras.layers import LeakyReLU\n",
        "LeakyReLU = LeakyReLU(alpha=0.1)\n",
        "import warnings\n",
        "warnings.filterwarnings('ignore')\n",
        "pd.set_option(\"display.max_columns\", None)"
      ],
      "metadata": {
        "colab": {
          "base_uri": "https://localhost:8080/",
          "height": 374
        },
        "id": "6FRcg06Z96rE",
        "outputId": "4e5d0611-f1f7-4ac1-add0-8a56564d6a5b"
      },
      "execution_count": 140,
      "outputs": [
        {
          "output_type": "error",
          "ename": "ModuleNotFoundError",
          "evalue": "ignored",
          "traceback": [
            "\u001b[0;31m---------------------------------------------------------------------------\u001b[0m",
            "\u001b[0;31mModuleNotFoundError\u001b[0m                       Traceback (most recent call last)",
            "\u001b[0;32m<ipython-input-140-d27adb2bf561>\u001b[0m in \u001b[0;36m<module>\u001b[0;34m()\u001b[0m\n\u001b[1;32m     13\u001b[0m \u001b[0;32mfrom\u001b[0m \u001b[0mmath\u001b[0m \u001b[0;32mimport\u001b[0m \u001b[0mfloor\u001b[0m\u001b[0;34m\u001b[0m\u001b[0;34m\u001b[0m\u001b[0m\n\u001b[1;32m     14\u001b[0m \u001b[0;32mfrom\u001b[0m \u001b[0msklearn\u001b[0m\u001b[0;34m.\u001b[0m\u001b[0mmetrics\u001b[0m \u001b[0;32mimport\u001b[0m \u001b[0mmake_scorer\u001b[0m\u001b[0;34m,\u001b[0m \u001b[0maccuracy_score\u001b[0m\u001b[0;34m\u001b[0m\u001b[0;34m\u001b[0m\u001b[0m\n\u001b[0;32m---> 15\u001b[0;31m \u001b[0;32mfrom\u001b[0m \u001b[0mbayes_opt\u001b[0m \u001b[0;32mimport\u001b[0m \u001b[0mBayesianOptimization\u001b[0m\u001b[0;34m\u001b[0m\u001b[0;34m\u001b[0m\u001b[0m\n\u001b[0m\u001b[1;32m     16\u001b[0m \u001b[0;32mfrom\u001b[0m \u001b[0msklearn\u001b[0m\u001b[0;34m.\u001b[0m\u001b[0mmodel_selection\u001b[0m \u001b[0;32mimport\u001b[0m \u001b[0mStratifiedKFold\u001b[0m\u001b[0;34m\u001b[0m\u001b[0;34m\u001b[0m\u001b[0m\n\u001b[1;32m     17\u001b[0m \u001b[0;32mfrom\u001b[0m \u001b[0mkeras\u001b[0m\u001b[0;34m.\u001b[0m\u001b[0mlayers\u001b[0m \u001b[0;32mimport\u001b[0m \u001b[0mLeakyReLU\u001b[0m\u001b[0;34m\u001b[0m\u001b[0;34m\u001b[0m\u001b[0m\n",
            "\u001b[0;31mModuleNotFoundError\u001b[0m: No module named 'bayes_opt'",
            "",
            "\u001b[0;31m---------------------------------------------------------------------------\u001b[0;32m\nNOTE: If your import is failing due to a missing package, you can\nmanually install dependencies using either !pip or !apt.\n\nTo view examples of installing some common dependencies, click the\n\"Open Examples\" button below.\n\u001b[0;31m---------------------------------------------------------------------------\u001b[0m\n"
          ],
          "errorDetails": {
            "actions": [
              {
                "action": "open_url",
                "actionText": "Open Examples",
                "url": "/notebooks/snippets/importing_libraries.ipynb"
              }
            ]
          }
        }
      ]
    },
    {
      "cell_type": "code",
      "source": [
        "# testdf.drop(columns=['season'],inplace=True)"
      ],
      "metadata": {
        "id": "qniUHRcDv8Lp"
      },
      "execution_count": 89,
      "outputs": []
    },
    {
      "cell_type": "code",
      "source": [
        "ringaddtest = testdf\n",
        "ringaddtest = pd.get_dummies(ringaddtest,drop_first=True)\n",
        "\n",
        "testdf['season'] = np.argmax(model.predict(ringaddtest),axis=1)\n",
        "\n",
        "mapping_dictionary = {0:\"a\",1:\"s\",2:\"u\",3:\"w\"}\n",
        "testdf = testdf.replace({\"season\":mapping_dictionary})\n",
        "\n",
        "# testdf[''] = testdf.apply(lambda x: x['ring_type'] if pd.isna(x['ring-type']) else x['ring-type'],axis=1)\n",
        "# testdf.drop('ring_type',axis=1,inplace=True)"
      ],
      "metadata": {
        "id": "13B9hspxuPb3"
      },
      "execution_count": 64,
      "outputs": []
    },
    {
      "cell_type": "code",
      "source": [
        "testdf[['season']].to_csv('out4.csv',index=False)"
      ],
      "metadata": {
        "id": "wX0nf5_SvgG-"
      },
      "execution_count": 65,
      "outputs": []
    },
    {
      "cell_type": "code",
      "source": [
        ""
      ],
      "metadata": {
        "id": "tXvttXAfvhI_"
      },
      "execution_count": null,
      "outputs": []
    }
  ],
  "metadata": {
    "accelerator": "GPU",
    "colab": {
      "collapsed_sections": [],
      "name": "feature_columns (1).ipynb",
      "provenance": [],
      "include_colab_link": true
    },
    "kernelspec": {
      "display_name": "Python 3",
      "name": "python3"
    }
  },
  "nbformat": 4,
  "nbformat_minor": 0
}