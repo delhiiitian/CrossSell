{
  "nbformat": 4,
  "nbformat_minor": 0,
  "metadata": {
    "colab": {
      "name": "nn_new.ipynb",
      "provenance": [],
      "authorship_tag": "ABX9TyMzEwK9N+QkeAU+SH+htiai",
      "include_colab_link": true
    },
    "kernelspec": {
      "name": "python3",
      "display_name": "Python 3"
    },
    "language_info": {
      "name": "python"
    }
  },
  "cells": [
    {
      "cell_type": "markdown",
      "metadata": {
        "id": "view-in-github",
        "colab_type": "text"
      },
      "source": [
        "<a href=\"https://colab.research.google.com/github/delhiiitian/CrossSell/blob/main/nn_new2.ipynb\" target=\"_parent\"><img src=\"https://colab.research.google.com/assets/colab-badge.svg\" alt=\"Open In Colab\"/></a>"
      ]
    },
    {
      "cell_type": "code",
      "execution_count": 20,
      "metadata": {
        "id": "VYZ8WjcTGXpV"
      },
      "outputs": [],
      "source": [
        "# Import packages\n",
        "import numpy as np\n",
        "import pandas as pd\n",
        "# import matplotlib.pyplot as plt\n",
        "# import seaborn as sns\n",
        "from sklearn.compose import make_column_transformer\n",
        "from sklearn.model_selection import train_test_split,cross_val_score,StratifiedKFold,KFold\n",
        "from sklearn.preprocessing import  LabelEncoder,OrdinalEncoder,MinMaxScaler,OneHotEncoder\n",
        "from keras.models import Sequential\n",
        "import keras\n",
        "from tensorflow.keras.utils import to_categorical \n",
        "from keras.layers import Dense, BatchNormalization, Dropout\n",
        "from tensorflow.keras.optimizers import Adam, SGD, RMSprop, Adadelta, Adagrad, Adamax, Nadam, Ftrl\n",
        "from keras.callbacks import EarlyStopping, ModelCheckpoint\n",
        "from keras.wrappers.scikit_learn import KerasClassifier\n",
        "from sklearn.metrics import make_scorer, accuracy_score\n",
        "# from bayes_opt import BayesianOptimization\n",
        "from keras.layers import LeakyReLU\n",
        "LeakyReLU = LeakyReLU(alpha=0.1)\n",
        "import warnings\n",
        "warnings.filterwarnings('ignore')\n",
        "pd.set_option(\"display.max_columns\", None)"
      ]
    },
    {
      "cell_type": "code",
      "source": [
        "traindf = pd.read_csv('train_full_new.csv',index_col=0)\n",
        "testdf = pd.read_csv('test_full_new.csv',index_col=0)\n",
        "\n",
        "testdf.drop(columns=['season'],inplace=True)"
      ],
      "metadata": {
        "id": "Y9KSPEKYJJ1p"
      },
      "execution_count": 21,
      "outputs": []
    },
    {
      "cell_type": "code",
      "source": [
        "traindf = traindf[traindf['season'].isin([\"a\",\"u\"]) ]"
      ],
      "metadata": {
        "id": "Oy9ws_NhS-f7"
      },
      "execution_count": 23,
      "outputs": []
    },
    {
      "cell_type": "code",
      "source": [
        "# one hot\n",
        "# train = pd.get_dummies(traindf,columns=['edible-poisonous', 'cap-shape', 'cap-color',\n",
        "#        'does-bruise-or-bleed', 'gill-attachment', 'gill-color',\n",
        "#        'stem-color', 'has-ring', 'ring-type', 'habitat'],drop_first=True)\n",
        "# test = pd.get_dummies(testdf,columns=['edible-poisonous', 'cap-shape', 'cap-color',\n",
        "#        'does-bruise-or-bleed', 'gill-attachment', 'gill-color',\n",
        "#        'stem-color', 'has-ring', 'ring-type', 'habitat',],drop_first=True)\n",
        "\n",
        "\n",
        "train1, test1 = train_test_split(traindf, test_size=0.02,stratify=traindf['season'])\n",
        "\n",
        "# train, val = train_test_split(train, test_size=0.2)\n",
        "\n",
        "X_train,y_train = train1.loc[:, train1.columns != 'season'],train1['season']\n",
        "X_test,y_test = test1.loc[:, test1.columns != 'season'],test1['season']\n",
        "\n",
        "categorical_columns = ['edible-poisonous', 'cap-shape', 'cap-color',\n",
        "       'does-bruise-or-bleed', 'gill-attachment', 'gill-color',\n",
        "       'stem-color', 'has-ring', 'ring-type', 'habitat']\n",
        "\n",
        "numerical_columns = ['cap-diameter','stem-height','stem-width']\n",
        "\n",
        "column_trans = make_column_transformer((OneHotEncoder(),categorical_columns),(MinMaxScaler(),numerical_columns))\n",
        "\n",
        "\n",
        "column_trans.fit(X_train)\n",
        "X_train = column_trans.transform(X_train)\n",
        "X_test = column_trans.transform(X_test)\n",
        "testdata = column_trans.transform(testdf)\n",
        "# # LE\n",
        "# # prepare input data\n",
        "# def prepare_inputs(X_train, X_test):\n",
        "# \t\toe = OrdinalEncoder()\n",
        "# \t\toe.fit(X_train)\n",
        "# \t\tX_train_enc = oe.transform(X_train,)\n",
        "# \t\tX_test_enc = oe.transform(X_test)\n",
        "# \t\treturn X_train_enc, X_test_enc\n",
        "\n",
        "# prepare target\n",
        "def prepare_targets(y_train, y_test):\n",
        "\t\tle = LabelEncoder()\n",
        "\t\tle.fit(y_train)\n",
        "\t\ty_train_enc = le.transform(y_train)\n",
        "\t\ty_test_enc = le.transform(y_test)\n",
        "\t\treturn y_train_enc, y_test_enc\n",
        "\n",
        "# # prepare input data\n",
        "# # X_train_enc, X_test_enc = prepare_inputs(tr1, ts1)\n",
        "# # prepare output data\n",
        "\n",
        "mapping_dictionary = {\"a\":0,\"u\":1}\n",
        "mappint_dictionary_reverse = {0:\"a\",1:\"u\"}\n",
        "y_train = y_train.replace(mapping_dictionary,regex=True)\n",
        "y_test = y_test.replace(mapping_dictionary,regex=True)\n",
        "# y_train, y_test = prepare_targets(y_train, y_test)\n",
        "y_train = to_categorical(y_train)\n",
        "y_test = to_categorical(y_test)\n"
      ],
      "metadata": {
        "id": "pvz-JO3qJTcB"
      },
      "execution_count": 46,
      "outputs": []
    },
    {
      "cell_type": "code",
      "source": [
        "X_train.shape[1]"
      ],
      "metadata": {
        "colab": {
          "base_uri": "https://localhost:8080/"
        },
        "id": "74dwj8GBQel5",
        "outputId": "4c186805-042f-46c9-e14a-00d27eb4bc9b"
      },
      "execution_count": 47,
      "outputs": [
        {
          "output_type": "execute_result",
          "data": {
            "text/plain": [
              "76"
            ]
          },
          "metadata": {},
          "execution_count": 47
        }
      ]
    },
    {
      "cell_type": "code",
      "source": [
        "y_train"
      ],
      "metadata": {
        "colab": {
          "base_uri": "https://localhost:8080/"
        },
        "id": "i73YB2GNYCl8",
        "outputId": "2077780f-d176-491c-ecfc-408d734602b1"
      },
      "execution_count": 48,
      "outputs": [
        {
          "output_type": "execute_result",
          "data": {
            "text/plain": [
              "array([[1., 0.],\n",
              "       [1., 0.],\n",
              "       [1., 0.],\n",
              "       ...,\n",
              "       [1., 0.],\n",
              "       [0., 1.],\n",
              "       [1., 0.]], dtype=float32)"
            ]
          },
          "metadata": {},
          "execution_count": 48
        }
      ]
    },
    {
      "cell_type": "code",
      "source": [
        "testdata.shape"
      ],
      "metadata": {
        "colab": {
          "base_uri": "https://localhost:8080/"
        },
        "id": "24In-mw-ZR28",
        "outputId": "3586cc91-f65b-4b2a-9fd8-6e4e5d091cb6"
      },
      "execution_count": 49,
      "outputs": [
        {
          "output_type": "execute_result",
          "data": {
            "text/plain": [
              "(18321, 76)"
            ]
          },
          "metadata": {},
          "execution_count": 49
        }
      ]
    },
    {
      "cell_type": "code",
      "source": [
        "model = Sequential()\n",
        "model.add(Dense(128, activation='tanh', input_dim=X_train.shape[1]))\n",
        "model.add(Dropout(0.1))\n",
        "model.add(Dense(64, activation='tanh'))\n",
        "model.add(Dropout(0.1))\n",
        "# model.add(Dense(64, activation='relu'))\n",
        "# model.add(Dropout(0.01))\n",
        "model.add(Dense(2, activation='softmax'))\n",
        "\n",
        "# Compile the model\n",
        "model.compile(optimizer='adam', \n",
        "              loss='categorical_crossentropy', \n",
        "              metrics=['accuracy'])"
      ],
      "metadata": {
        "id": "TXAzhFoKQcXS"
      },
      "execution_count": 59,
      "outputs": []
    },
    {
      "cell_type": "code",
      "source": [
        "model.fit(X_train, y_train, epochs=20)\n",
        "model.evaluate(X_test, y_test, batch_size=16)"
      ],
      "metadata": {
        "colab": {
          "base_uri": "https://localhost:8080/"
        },
        "id": "F62KNqq1Quho",
        "outputId": "c3cfdcea-95b2-4822-d009-2c66ccc3e6b8"
      },
      "execution_count": 60,
      "outputs": [
        {
          "output_type": "stream",
          "name": "stdout",
          "text": [
            "Epoch 1/20\n",
            "1138/1138 [==============================] - 4s 3ms/step - loss: 0.6731 - accuracy: 0.5743\n",
            "Epoch 2/20\n",
            "1138/1138 [==============================] - 3s 3ms/step - loss: 0.6567 - accuracy: 0.5819\n",
            "Epoch 3/20\n",
            "1138/1138 [==============================] - 3s 3ms/step - loss: 0.6448 - accuracy: 0.5852\n",
            "Epoch 4/20\n",
            "1138/1138 [==============================] - 3s 3ms/step - loss: 0.6368 - accuracy: 0.5871\n",
            "Epoch 5/20\n",
            "1138/1138 [==============================] - 3s 3ms/step - loss: 0.6304 - accuracy: 0.5899\n",
            "Epoch 6/20\n",
            "1138/1138 [==============================] - 3s 3ms/step - loss: 0.6245 - accuracy: 0.5968\n",
            "Epoch 7/20\n",
            "1138/1138 [==============================] - 3s 3ms/step - loss: 0.6210 - accuracy: 0.5971\n",
            "Epoch 8/20\n",
            "1138/1138 [==============================] - 3s 3ms/step - loss: 0.6175 - accuracy: 0.5967\n",
            "Epoch 9/20\n",
            "1138/1138 [==============================] - 3s 3ms/step - loss: 0.6162 - accuracy: 0.5944\n",
            "Epoch 10/20\n",
            "1138/1138 [==============================] - 3s 3ms/step - loss: 0.6137 - accuracy: 0.5972\n",
            "Epoch 11/20\n",
            "1138/1138 [==============================] - 3s 3ms/step - loss: 0.6101 - accuracy: 0.5995\n",
            "Epoch 12/20\n",
            "1138/1138 [==============================] - 3s 3ms/step - loss: 0.6090 - accuracy: 0.6011\n",
            "Epoch 13/20\n",
            "1138/1138 [==============================] - 3s 3ms/step - loss: 0.6088 - accuracy: 0.6021\n",
            "Epoch 14/20\n",
            "1138/1138 [==============================] - 3s 3ms/step - loss: 0.6069 - accuracy: 0.6017\n",
            "Epoch 15/20\n",
            "1138/1138 [==============================] - 3s 3ms/step - loss: 0.6072 - accuracy: 0.6007\n",
            "Epoch 16/20\n",
            "1138/1138 [==============================] - 3s 3ms/step - loss: 0.6054 - accuracy: 0.6034\n",
            "Epoch 17/20\n",
            "1138/1138 [==============================] - 3s 3ms/step - loss: 0.6046 - accuracy: 0.6069\n",
            "Epoch 18/20\n",
            "1138/1138 [==============================] - 3s 3ms/step - loss: 0.6053 - accuracy: 0.6037\n",
            "Epoch 19/20\n",
            "1138/1138 [==============================] - 3s 3ms/step - loss: 0.6033 - accuracy: 0.6043\n",
            "Epoch 20/20\n",
            "1138/1138 [==============================] - 3s 3ms/step - loss: 0.6022 - accuracy: 0.6053\n",
            "47/47 [==============================] - 0s 2ms/step - loss: 0.6037 - accuracy: 0.5860\n"
          ]
        },
        {
          "output_type": "execute_result",
          "data": {
            "text/plain": [
              "[0.6036636233329773, 0.5860214829444885]"
            ]
          },
          "metadata": {},
          "execution_count": 60
        }
      ]
    },
    {
      "cell_type": "code",
      "source": [
        "predictions = np.argmax(model.predict(testdata),axis=1)\n",
        "pred_df = pd.DataFrame(predictions,columns=['season'])"
      ],
      "metadata": {
        "id": "eI_My2o2QyoA"
      },
      "execution_count": 54,
      "outputs": []
    },
    {
      "cell_type": "code",
      "source": [
        "pred_df = pred_df.replace({'season':mappint_dictionary_reverse})"
      ],
      "metadata": {
        "id": "BnVZKxL_Tysd"
      },
      "execution_count": 56,
      "outputs": []
    },
    {
      "cell_type": "code",
      "source": [
        "pred_df.to_csv('final_v1.csv',index=None)"
      ],
      "metadata": {
        "id": "UKiWxAhWSgsO"
      },
      "execution_count": 58,
      "outputs": []
    },
    {
      "cell_type": "code",
      "source": [
        ""
      ],
      "metadata": {
        "id": "eZvoQXXZYhHq"
      },
      "execution_count": null,
      "outputs": []
    }
  ]
}